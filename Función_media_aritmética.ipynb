{
  "nbformat": 4,
  "nbformat_minor": 0,
  "metadata": {
    "colab": {
      "provenance": [],
      "authorship_tag": "ABX9TyO094bv0CliyTVtmnZn+hQ2",
      "include_colab_link": true
    },
    "kernelspec": {
      "name": "python3",
      "display_name": "Python 3"
    },
    "language_info": {
      "name": "python"
    }
  },
  "cells": [
    {
      "cell_type": "markdown",
      "metadata": {
        "id": "view-in-github",
        "colab_type": "text"
      },
      "source": [
        "<a href=\"https://colab.research.google.com/github/joseameij/notebooks/blob/main/Funci%C3%B3n_media_aritm%C3%A9tica.ipynb\" target=\"_parent\"><img src=\"https://colab.research.google.com/assets/colab-badge.svg\" alt=\"Open In Colab\"/></a>"
      ]
    },
    {
      "cell_type": "markdown",
      "source": [
        "# **Trabajo de navidades TIC (José Francisco Ameijeiras Quintero)**"
      ],
      "metadata": {
        "id": "pwgKmNJKzT0h"
      }
    },
    {
      "cell_type": "markdown",
      "source": [
        "**Funcion media aritmética**"
      ],
      "metadata": {
        "id": "wQbgRYCDzDpD"
      }
    },
    {
      "cell_type": "code",
      "source": [
        "! wget https://raw.githubusercontent.com/joseameij/notebooks/main/temperaturas2019.txt"
      ],
      "metadata": {
        "colab": {
          "base_uri": "https://localhost:8080/"
        },
        "id": "D5KU1EUI3Jhd",
        "outputId": "24480c5a-2fae-4388-eafe-a1a46bf415f7"
      },
      "execution_count": null,
      "outputs": [
        {
          "output_type": "stream",
          "name": "stdout",
          "text": [
            "--2023-01-04 14:56:49--  https://raw.githubusercontent.com/joseameij/notebooks/main/temperaturas2019.txt\n",
            "Resolving raw.githubusercontent.com (raw.githubusercontent.com)... 185.199.108.133, 185.199.109.133, 185.199.110.133, ...\n",
            "Connecting to raw.githubusercontent.com (raw.githubusercontent.com)|185.199.108.133|:443... connected.\n",
            "HTTP request sent, awaiting response... 200 OK\n",
            "Length: 1882 (1.8K) [text/plain]\n",
            "Saving to: ‘temperaturas2019.txt’\n",
            "\n",
            "\rtemperaturas2019.tx   0%[                    ]       0  --.-KB/s               \rtemperaturas2019.tx 100%[===================>]   1.84K  --.-KB/s    in 0s      \n",
            "\n",
            "2023-01-04 14:56:49 (35.1 MB/s) - ‘temperaturas2019.txt’ saved [1882/1882]\n",
            "\n"
          ]
        }
      ]
    },
    {
      "cell_type": "code",
      "source": [
        "def media(lista):\n",
        "  suma=0\n",
        "  for i in lista:\n",
        "      suma+=float(i)\n",
        "  return(round(suma/len(lista),2))"
      ],
      "metadata": {
        "id": "QKq6cTrAhJSt"
      },
      "execution_count": 1,
      "outputs": []
    },
    {
      "cell_type": "code",
      "source": [
        "archivo=\"temperaturas2019.txt\"\n",
        "archivomed=\"temperaturas2019med.txt\"\n",
        "with open(archivo,\"r\") as lista:\n",
        "  with open(archivomed,\"w\") as mediat:\n",
        "    for dias in lista:\n",
        "      mes= dias.split(\",\")\n",
        "      nombre = mes[0]\n",
        "      temperaturas = media(mes[1:])\n",
        "      linea =\"La temperatura media del mes de \" + nombre + \" fue:\"  +str(temperaturas) + \"\\n\"\n",
        "      mediat.write(linea)"
      ],
      "metadata": {
        "id": "DWTp6HcmZrOg"
      },
      "execution_count": null,
      "outputs": []
    }
  ]
}